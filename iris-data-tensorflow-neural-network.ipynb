{
 "cells": [
  {
   "cell_type": "markdown",
   "metadata": {},
   "source": [
    "# TensorFlow 2.x - Multiclass Classification\n",
    "\n",
    "\n",
    "## Dataset\n",
    "\n",
    "IRIS dataset is used in this kernel to demonstrate the multiclass classification using `TensorFlow 2.x`. This dataset has 5 features, out of which 4 features are numeric features and 1 is a categorical feature. "
   ]
  },
  {
   "cell_type": "markdown",
   "metadata": {
    "_cell_guid": "79c7e3d0-c299-4dcb-8224-4455121ee9b0",
    "_uuid": "d629ff2d2480ee46fbb7e2d37f6b5fab8052498a"
   },
   "source": [
    "## 1. Import dependent libraries"
   ]
  },
  {
   "cell_type": "code",
   "execution_count": 37,
   "metadata": {
    "tags": []
   },
   "outputs": [],
   "source": [
    "import pandas as pd\n",
    "import numpy as np\n",
    "import os\n",
    "\n",
    "# Plotting libraries\n",
    "import matplotlib.pyplot as plt\n",
    "\n",
    "\n",
    "# SKLearn libraries\n",
    "from sklearn.preprocessing import LabelEncoder\n",
    "from sklearn.model_selection import train_test_split\n",
    "\n",
    "# Tensorflow libraries\n",
    "import tensorflow as tf\n",
    "from tensorflow import keras\n",
    "from tensorflow.keras.models import Sequential\n",
    "\n",
    "from sklearn import datasets\n",
    "\n"
   ]
  },
  {
   "cell_type": "code",
   "execution_count": 38,
   "metadata": {
    "tags": []
   },
   "outputs": [],
   "source": [
    "# Data file path\n",
    "iris = datasets.load_iris()\n",
    "iris_data = pd.DataFrame(iris.data, columns = iris.feature_names)\n",
    "iris_data['species'] = iris.target_names[iris.target]"
   ]
  },
  {
   "cell_type": "code",
   "execution_count": 39,
   "metadata": {
    "tags": []
   },
   "outputs": [
    {
     "name": "stdout",
     "output_type": "stream",
     "text": [
      "<class 'pandas.core.frame.DataFrame'>\n",
      "RangeIndex: 150 entries, 0 to 149\n",
      "Data columns (total 5 columns):\n",
      " #   Column             Non-Null Count  Dtype  \n",
      "---  ------             --------------  -----  \n",
      " 0   sepal length (cm)  150 non-null    float64\n",
      " 1   sepal width (cm)   150 non-null    float64\n",
      " 2   petal length (cm)  150 non-null    float64\n",
      " 3   petal width (cm)   150 non-null    float64\n",
      " 4   species            150 non-null    object \n",
      "dtypes: float64(4), object(1)\n",
      "memory usage: 6.0+ KB\n",
      "================================================================================\n"
     ]
    },
    {
     "data": {
      "text/html": [
       "<div>\n",
       "<style scoped>\n",
       "    .dataframe tbody tr th:only-of-type {\n",
       "        vertical-align: middle;\n",
       "    }\n",
       "\n",
       "    .dataframe tbody tr th {\n",
       "        vertical-align: top;\n",
       "    }\n",
       "\n",
       "    .dataframe thead th {\n",
       "        text-align: right;\n",
       "    }\n",
       "</style>\n",
       "<table border=\"1\" class=\"dataframe\">\n",
       "  <thead>\n",
       "    <tr style=\"text-align: right;\">\n",
       "      <th></th>\n",
       "      <th>sepal length (cm)</th>\n",
       "      <th>sepal width (cm)</th>\n",
       "      <th>petal length (cm)</th>\n",
       "      <th>petal width (cm)</th>\n",
       "      <th>species</th>\n",
       "    </tr>\n",
       "  </thead>\n",
       "  <tbody>\n",
       "    <tr>\n",
       "      <th>0</th>\n",
       "      <td>5.1</td>\n",
       "      <td>3.5</td>\n",
       "      <td>1.4</td>\n",
       "      <td>0.2</td>\n",
       "      <td>setosa</td>\n",
       "    </tr>\n",
       "    <tr>\n",
       "      <th>1</th>\n",
       "      <td>4.9</td>\n",
       "      <td>3.0</td>\n",
       "      <td>1.4</td>\n",
       "      <td>0.2</td>\n",
       "      <td>setosa</td>\n",
       "    </tr>\n",
       "    <tr>\n",
       "      <th>2</th>\n",
       "      <td>4.7</td>\n",
       "      <td>3.2</td>\n",
       "      <td>1.3</td>\n",
       "      <td>0.2</td>\n",
       "      <td>setosa</td>\n",
       "    </tr>\n",
       "    <tr>\n",
       "      <th>3</th>\n",
       "      <td>4.6</td>\n",
       "      <td>3.1</td>\n",
       "      <td>1.5</td>\n",
       "      <td>0.2</td>\n",
       "      <td>setosa</td>\n",
       "    </tr>\n",
       "    <tr>\n",
       "      <th>4</th>\n",
       "      <td>5.0</td>\n",
       "      <td>3.6</td>\n",
       "      <td>1.4</td>\n",
       "      <td>0.2</td>\n",
       "      <td>setosa</td>\n",
       "    </tr>\n",
       "    <tr>\n",
       "      <th>5</th>\n",
       "      <td>5.4</td>\n",
       "      <td>3.9</td>\n",
       "      <td>1.7</td>\n",
       "      <td>0.4</td>\n",
       "      <td>setosa</td>\n",
       "    </tr>\n",
       "    <tr>\n",
       "      <th>6</th>\n",
       "      <td>4.6</td>\n",
       "      <td>3.4</td>\n",
       "      <td>1.4</td>\n",
       "      <td>0.3</td>\n",
       "      <td>setosa</td>\n",
       "    </tr>\n",
       "    <tr>\n",
       "      <th>7</th>\n",
       "      <td>5.0</td>\n",
       "      <td>3.4</td>\n",
       "      <td>1.5</td>\n",
       "      <td>0.2</td>\n",
       "      <td>setosa</td>\n",
       "    </tr>\n",
       "    <tr>\n",
       "      <th>8</th>\n",
       "      <td>4.4</td>\n",
       "      <td>2.9</td>\n",
       "      <td>1.4</td>\n",
       "      <td>0.2</td>\n",
       "      <td>setosa</td>\n",
       "    </tr>\n",
       "    <tr>\n",
       "      <th>9</th>\n",
       "      <td>4.9</td>\n",
       "      <td>3.1</td>\n",
       "      <td>1.5</td>\n",
       "      <td>0.1</td>\n",
       "      <td>setosa</td>\n",
       "    </tr>\n",
       "  </tbody>\n",
       "</table>\n",
       "</div>"
      ],
      "text/plain": [
       "   sepal length (cm)  sepal width (cm)  petal length (cm)  petal width (cm)  \\\n",
       "0                5.1               3.5                1.4               0.2   \n",
       "1                4.9               3.0                1.4               0.2   \n",
       "2                4.7               3.2                1.3               0.2   \n",
       "3                4.6               3.1                1.5               0.2   \n",
       "4                5.0               3.6                1.4               0.2   \n",
       "5                5.4               3.9                1.7               0.4   \n",
       "6                4.6               3.4                1.4               0.3   \n",
       "7                5.0               3.4                1.5               0.2   \n",
       "8                4.4               2.9                1.4               0.2   \n",
       "9                4.9               3.1                1.5               0.1   \n",
       "\n",
       "  species  \n",
       "0  setosa  \n",
       "1  setosa  \n",
       "2  setosa  \n",
       "3  setosa  \n",
       "4  setosa  \n",
       "5  setosa  \n",
       "6  setosa  \n",
       "7  setosa  \n",
       "8  setosa  \n",
       "9  setosa  "
      ]
     },
     "execution_count": 39,
     "metadata": {},
     "output_type": "execute_result"
    }
   ],
   "source": [
    "iris_data.info()\n",
    "print(\"==\"*40)\n",
    "iris_data.head(10)"
   ]
  },
  {
   "cell_type": "markdown",
   "metadata": {},
   "source": [
    "## 2. Preparing dataset"
   ]
  },
  {
   "cell_type": "code",
   "execution_count": 40,
   "metadata": {
    "tags": []
   },
   "outputs": [],
   "source": [
    "X = iris_data.loc[:, iris_data.columns != 'species']\n",
    "y = iris_data.loc[:, ['species']]"
   ]
  },
  {
   "cell_type": "code",
   "execution_count": 41,
   "metadata": {
    "tags": []
   },
   "outputs": [
    {
     "name": "stderr",
     "output_type": "stream",
     "text": [
      "c:\\Users\\Dima\\.conda\\envs\\myenv\\lib\\site-packages\\sklearn\\preprocessing\\_label.py:114: DataConversionWarning: A column-vector y was passed when a 1d array was expected. Please change the shape of y to (n_samples, ), for example using ravel().\n",
      "  y = column_or_1d(y, warn=True)\n"
     ]
    }
   ],
   "source": [
    "y_enc = LabelEncoder().fit_transform(y)\n",
    "# Converting the label into a matrix form\n",
    "y_label = tf.keras.utils.to_categorical(y_enc)"
   ]
  },
  {
   "cell_type": "markdown",
   "metadata": {},
   "source": [
    "Dataset will be prepared by the tensorflow `from_tensor_slice()` method."
   ]
  },
  {
   "cell_type": "code",
   "execution_count": 42,
   "metadata": {
    "tags": []
   },
   "outputs": [],
   "source": [
    "X_train, X_test, y_train, y_test = train_test_split(X, y_label, test_size=0.3)"
   ]
  },
  {
   "cell_type": "code",
   "execution_count": 43,
   "metadata": {
    "tags": []
   },
   "outputs": [
    {
     "name": "stdout",
     "output_type": "stream",
     "text": [
      "Train shape : (105, 4), Y Train : (105, 3)\n"
     ]
    }
   ],
   "source": [
    "print(f\"Train shape : {X_train.shape}, Y Train : {y_train.shape}\")"
   ]
  },
  {
   "cell_type": "code",
   "execution_count": 44,
   "metadata": {
    "tags": []
   },
   "outputs": [],
   "source": [
    "\n",
    "\n",
    "def get_model():\n",
    "    model = Sequential([\n",
    "        keras.layers.Input(shape=X_train.shape[1:]),\n",
    "        keras.layers.Dense(1000, activation='relu'),\n",
    "        keras.layers.Dense(500, activation='relu',),\n",
    "        keras.layers.Dense(300, activation='relu'),\n",
    "        keras.layers.Dropout(0.2),\n",
    "        keras.layers.Dense(3, activation='softmax')\n",
    "    ])\n",
    "    \n",
    "    return model"
   ]
  },
  {
   "cell_type": "code",
   "execution_count": 45,
   "metadata": {
    "tags": []
   },
   "outputs": [],
   "source": [
    "model = get_model()\n"
   ]
  },
  {
   "cell_type": "code",
   "execution_count": 46,
   "metadata": {
    "tags": []
   },
   "outputs": [
    {
     "name": "stdout",
     "output_type": "stream",
     "text": [
      "Model: \"sequential_3\"\n",
      "_________________________________________________________________\n",
      " Layer (type)                Output Shape              Param #   \n",
      "=================================================================\n",
      " dense_12 (Dense)            (None, 1000)              5000      \n",
      "                                                                 \n",
      " dense_13 (Dense)            (None, 500)               500500    \n",
      "                                                                 \n",
      " dense_14 (Dense)            (None, 300)               150300    \n",
      "                                                                 \n",
      " dropout_3 (Dropout)         (None, 300)               0         \n",
      "                                                                 \n",
      " dense_15 (Dense)            (None, 3)                 903       \n",
      "                                                                 \n",
      "=================================================================\n",
      "Total params: 656,703\n",
      "Trainable params: 656,703\n",
      "Non-trainable params: 0\n",
      "_________________________________________________________________\n"
     ]
    }
   ],
   "source": [
    "model.summary()"
   ]
  },
  {
   "cell_type": "code",
   "execution_count": 47,
   "metadata": {
    "tags": []
   },
   "outputs": [],
   "source": [
    "# Compile the model\n",
    "model.compile(optimizer='adam', \n",
    "              loss=keras.losses.CategoricalCrossentropy(),\n",
    "             metrics=['accuracy'])"
   ]
  },
  {
   "cell_type": "code",
   "execution_count": 52,
   "metadata": {
    "tags": []
   },
   "outputs": [
    {
     "name": "stdout",
     "output_type": "stream",
     "text": [
      "Epoch 1/30\n",
      "4/4 [==============================] - 0s 26ms/step - loss: 0.0345 - accuracy: 0.9810 - val_loss: 0.1795 - val_accuracy: 0.9556\n",
      "Epoch 2/30\n",
      "4/4 [==============================] - 0s 11ms/step - loss: 0.0164 - accuracy: 1.0000 - val_loss: 0.1601 - val_accuracy: 0.9556\n",
      "Epoch 3/30\n",
      "4/4 [==============================] - 0s 11ms/step - loss: 0.0254 - accuracy: 0.9905 - val_loss: 0.1807 - val_accuracy: 0.9556\n",
      "Epoch 4/30\n",
      "4/4 [==============================] - 0s 15ms/step - loss: 0.0168 - accuracy: 1.0000 - val_loss: 0.1945 - val_accuracy: 0.9556\n",
      "Epoch 5/30\n",
      "4/4 [==============================] - 0s 12ms/step - loss: 0.0131 - accuracy: 1.0000 - val_loss: 0.1727 - val_accuracy: 0.9556\n",
      "Epoch 6/30\n",
      "4/4 [==============================] - 0s 11ms/step - loss: 0.0161 - accuracy: 1.0000 - val_loss: 0.1808 - val_accuracy: 0.9556\n",
      "Epoch 7/30\n",
      "4/4 [==============================] - 0s 12ms/step - loss: 0.0150 - accuracy: 0.9905 - val_loss: 0.1826 - val_accuracy: 0.9556\n",
      "Epoch 8/30\n",
      "4/4 [==============================] - 0s 10ms/step - loss: 0.0161 - accuracy: 1.0000 - val_loss: 0.2024 - val_accuracy: 0.9556\n",
      "Epoch 9/30\n",
      "4/4 [==============================] - 0s 11ms/step - loss: 0.0196 - accuracy: 0.9905 - val_loss: 0.1661 - val_accuracy: 0.9556\n",
      "Epoch 10/30\n",
      "4/4 [==============================] - 0s 12ms/step - loss: 0.0231 - accuracy: 0.9905 - val_loss: 0.2196 - val_accuracy: 0.9556\n",
      "Epoch 11/30\n",
      "4/4 [==============================] - 0s 12ms/step - loss: 0.0178 - accuracy: 0.9905 - val_loss: 0.1615 - val_accuracy: 0.9556\n",
      "Epoch 12/30\n",
      "4/4 [==============================] - 0s 12ms/step - loss: 0.0295 - accuracy: 0.9905 - val_loss: 0.2490 - val_accuracy: 0.9556\n",
      "Epoch 13/30\n",
      "4/4 [==============================] - 0s 8ms/step - loss: 0.0237 - accuracy: 0.9905 - val_loss: 0.1635 - val_accuracy: 0.9556\n",
      "Epoch 14/30\n",
      "4/4 [==============================] - 0s 11ms/step - loss: 0.0343 - accuracy: 0.9714 - val_loss: 0.1480 - val_accuracy: 0.9778\n",
      "Epoch 15/30\n",
      "4/4 [==============================] - 0s 12ms/step - loss: 0.0883 - accuracy: 0.9619 - val_loss: 0.2980 - val_accuracy: 0.9556\n",
      "Epoch 16/30\n",
      "4/4 [==============================] - 0s 12ms/step - loss: 0.0446 - accuracy: 0.9714 - val_loss: 0.1517 - val_accuracy: 0.9556\n",
      "Epoch 17/30\n",
      "4/4 [==============================] - 0s 19ms/step - loss: 0.1347 - accuracy: 0.9333 - val_loss: 0.3941 - val_accuracy: 0.9333\n",
      "Epoch 18/30\n",
      "4/4 [==============================] - 0s 13ms/step - loss: 0.2358 - accuracy: 0.9429 - val_loss: 0.1691 - val_accuracy: 0.9556\n",
      "Epoch 19/30\n",
      "4/4 [==============================] - 0s 14ms/step - loss: 0.0481 - accuracy: 0.9619 - val_loss: 0.1495 - val_accuracy: 0.9556\n",
      "Epoch 20/30\n",
      "4/4 [==============================] - 0s 8ms/step - loss: 0.0268 - accuracy: 0.9905 - val_loss: 0.1720 - val_accuracy: 0.9556\n",
      "Epoch 21/30\n",
      "4/4 [==============================] - 0s 13ms/step - loss: 0.0267 - accuracy: 0.9810 - val_loss: 0.1391 - val_accuracy: 0.9556\n",
      "Epoch 22/30\n",
      "4/4 [==============================] - 0s 12ms/step - loss: 0.0227 - accuracy: 1.0000 - val_loss: 0.1589 - val_accuracy: 0.9556\n",
      "Epoch 23/30\n",
      "4/4 [==============================] - 0s 11ms/step - loss: 0.0217 - accuracy: 1.0000 - val_loss: 0.1495 - val_accuracy: 0.9556\n",
      "Epoch 24/30\n",
      "4/4 [==============================] - 0s 15ms/step - loss: 0.0259 - accuracy: 0.9905 - val_loss: 0.1847 - val_accuracy: 0.9556\n",
      "Epoch 25/30\n",
      "4/4 [==============================] - 0s 9ms/step - loss: 0.0488 - accuracy: 0.9810 - val_loss: 0.1911 - val_accuracy: 0.9556\n",
      "Epoch 26/30\n",
      "4/4 [==============================] - 0s 16ms/step - loss: 0.0331 - accuracy: 0.9905 - val_loss: 0.1358 - val_accuracy: 0.9556\n",
      "Epoch 27/30\n",
      "4/4 [==============================] - 0s 11ms/step - loss: 0.0145 - accuracy: 1.0000 - val_loss: 0.1951 - val_accuracy: 0.9556\n",
      "Epoch 28/30\n",
      "4/4 [==============================] - 0s 13ms/step - loss: 0.0400 - accuracy: 0.9810 - val_loss: 0.1439 - val_accuracy: 0.9556\n",
      "Epoch 29/30\n",
      "4/4 [==============================] - 0s 11ms/step - loss: 0.0266 - accuracy: 1.0000 - val_loss: 0.1666 - val_accuracy: 0.9556\n",
      "Epoch 30/30\n",
      "4/4 [==============================] - 0s 12ms/step - loss: 0.0156 - accuracy: 0.9905 - val_loss: 0.2058 - val_accuracy: 0.9556\n"
     ]
    }
   ],
   "source": [
    "from dvclive import Live\n",
    "from dvclive.keras import DVCLiveCallback\n",
    "\n",
    "history = model.fit(X_train, y_train, epochs=30, validation_data=(X_test, y_test), verbose=1, callbacks=[DVCLiveCallback(save_dvc_exp=True)])\n",
    "\n",
    "\n",
    "#with Live() as live:\n",
    "#    history = model.fit(X_train, y_train, epochs=30, validation_data=(X_test, y_test), verbose=1, callbacks=[DVCLiveCallback(save_dvc_exp=True)])\n",
    "#    model.save(\"mymodel\")\n",
    "#    live.log_artifact(\"mymodel\", type=\"model\")"
   ]
  },
  {
   "cell_type": "code",
   "execution_count": null,
   "metadata": {
    "tags": []
   },
   "outputs": [
    {
     "name": "stdout",
     "output_type": "stream",
     "text": [
      "2/2 [==============================] - 0s 0s/step - loss: 0.1304 - accuracy: 0.9778\n"
     ]
    },
    {
     "data": {
      "text/plain": [
       "[0.13038760423660278, 0.9777777791023254]"
      ]
     },
     "execution_count": 13,
     "metadata": {},
     "output_type": "execute_result"
    }
   ],
   "source": [
    "model.evaluate(X_test, y_test)"
   ]
  },
  {
   "cell_type": "markdown",
   "metadata": {},
   "source": [
    "## Performance Monitor"
   ]
  },
  {
   "cell_type": "code",
   "execution_count": null,
   "metadata": {
    "tags": []
   },
   "outputs": [
    {
     "data": {
      "image/png": "[encoded data removed]",
      "text/plain": [
       "<Figure size 1000x600 with 1 Axes>"
      ]
     },
     "metadata": {},
     "output_type": "display_data"
    }
   ],
   "source": [
    "pd.DataFrame(history.history).plot(figsize=(10,6))\n",
    "plt.grid(True)\n",
    "plt.gca().set_ylim(0, 1)\n",
    "plt.show()"
   ]
  },
  {
   "cell_type": "code",
   "execution_count": null,
   "metadata": {
    "tags": []
   },
   "outputs": [
    {
     "name": "stdout",
     "output_type": "stream",
     "text": [
      "1/1 [==============================] - 0s 78ms/step\n",
      "Actual data : [[0. 1. 0.]\n",
      " [1. 0. 0.]\n",
      " [0. 1. 0.]]\n",
      "1\n",
      "0\n",
      "1\n"
     ]
    }
   ],
   "source": [
    "new_data, y_actual = X_test[:3], y_test[:3]\n",
    "\n",
    "y_proba = model.predict(new_data)\n",
    "\n",
    "print(f\"Actual data : {y_actual}\")\n",
    "\n",
    "for pred in y_proba:\n",
    "    print(np.argmax(pred))"
   ]
  },
  {
   "cell_type": "code",
   "execution_count": null,
   "metadata": {},
   "outputs": [],
   "source": []
  }
 ],
 "metadata": {
  "kernelspec": {
   "display_name": "Python 3 (ipykernel)",
   "language": "python",
   "name": "python3"
  },
  "language_info": {
   "codemirror_mode": {
    "name": "ipython",
    "version": 3
   },
   "file_extension": ".py",
   "mimetype": "text/x-python",
   "name": "python",
   "nbconvert_exporter": "python",
   "pygments_lexer": "ipython3",
   "version": "3.10.13"
  }
 },
 "nbformat": 4,
 "nbformat_minor": 4
}
